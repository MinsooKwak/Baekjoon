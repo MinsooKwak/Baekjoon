{
  "nbformat": 4,
  "nbformat_minor": 0,
  "metadata": {
    "colab": {
      "name": "10828_스택_스택.ipynb",
      "provenance": [],
      "collapsed_sections": [],
      "include_colab_link": true
    },
    "kernelspec": {
      "name": "python3",
      "display_name": "Python 3"
    },
    "language_info": {
      "name": "python"
    }
  },
  "cells": [
    {
      "cell_type": "markdown",
      "metadata": {
        "id": "view-in-github",
        "colab_type": "text"
      },
      "source": [
        "<a href=\"https://colab.research.google.com/github/MinsooKwak/Baekjoon/blob/main/Algorism/10828_%EC%8A%A4%ED%83%9D_%EC%8A%A4%ED%83%9D.ipynb\" target=\"_parent\"><img src=\"https://colab.research.google.com/assets/colab-badge.svg\" alt=\"Open In Colab\"/></a>"
      ]
    },
    {
      "cell_type": "markdown",
      "source": [
        "정수를 저장하는 스택을 구현한 다음, 입력으로 주어지는 명령을 처리하는 프로그램을 작성하시오.\n",
        "\n",
        "명령은 총 다섯 가지이다.\n",
        "\n",
        "\n",
        "```\n",
        "push X: 정수 X를 스택에 넣는 연산이다.\n",
        "pop: 스택에서 가장 위에 있는 정수를 빼고, 그 수를 출력한다. 만약 스택에 들어있는 정수가 없는 경우에는 -1을 출력한다.\n",
        "size: 스택에 들어있는 정수의 개수를 출력한다.\n",
        "empty: 스택이 비어있으면 1, 아니면 0을 출력한다.\n",
        "top: 스택의 가장 위에 있는 정수를 출력한다. 만약 스택에 들어있는 정수가 없는 경우에는 -1을 출력한다.\n",
        "```\n",
        "입력\n",
        "\n",
        "```\n",
        "첫째 줄에 주어지는 명령의 수 N (1 ≤ N ≤ 10,000)이 주어진다. \n",
        "둘째 줄부터 N개의 줄에는 명령이 하나씩 주어진다. \n",
        "주어지는 정수는 1보다 크거나 같고, 100,000보다 작거나 같다. \n",
        "문제에 나와있지 않은 명령이 주어지는 경우는 없다.\n",
        "```\n",
        "출력해야하는 명령이 주어질 때마다, 한 줄에 하나씩 출력한다."
      ],
      "metadata": {
        "id": "2PA6OU_1heHN"
      }
    },
    {
      "cell_type": "code",
      "execution_count": 1,
      "metadata": {
        "id": "N0y_-f9mes8w"
      },
      "outputs": [],
      "source": [
        "class stack:\n",
        "  def __init__(self):\n",
        "    self.data =[]\n",
        "  \n",
        "  def push(self,X):\n",
        "    return self.data.append(X)\n",
        "\n",
        "  def pop(self):\n",
        "    if len(self.data) ==0:\n",
        "      return -1\n",
        "    else:\n",
        "      return self.data.pop()\n",
        "\n",
        "  def size(self):\n",
        "    return len(self.data)\n",
        "  \n",
        "  def empty(self):\n",
        "    if len(self.data)==0:\n",
        "      return 1\n",
        "    else:\n",
        "      return 0\n",
        "  \n",
        "  def top(self):\n",
        "    if len(self.data)==0:\n",
        "      return -1\n",
        "    else:\n",
        "      return self.data[-1]"
      ]
    },
    {
      "cell_type": "code",
      "source": [
        "N = int(input())\n",
        "st = stack()\n",
        "st.push(N)\n",
        "print(stack)\n",
        "st.pop()\n",
        "print(stack)\n",
        "st.size\n",
        "print(stack)\n",
        "st.empty()\n",
        "print(stack)\n",
        "st.top()\n",
        "print(stack)"
      ],
      "metadata": {
        "colab": {
          "base_uri": "https://localhost:8080/"
        },
        "id": "qR-k1pG8kCwz",
        "outputId": "49acd58c-b429-44d9-861c-cf42b42cccfd"
      },
      "execution_count": 2,
      "outputs": [
        {
          "output_type": "stream",
          "name": "stdout",
          "text": [
            "3\n",
            "<class '__main__.stack'>\n",
            "<class '__main__.stack'>\n",
            "<class '__main__.stack'>\n",
            "<class '__main__.stack'>\n",
            "<class '__main__.stack'>\n"
          ]
        }
      ]
    },
    {
      "cell_type": "code",
      "source": [
        "### 결과가 print 안되는 이유?"
      ],
      "metadata": {
        "id": "K3Fbm6Vx56Da"
      },
      "execution_count": null,
      "outputs": []
    },
    {
      "cell_type": "markdown",
      "source": [
        "[참고1](https://snepbnt.tistory.com/23)\n",
        "\n",
        "[참고2](https://securityspecialist.tistory.com/87)"
      ],
      "metadata": {
        "id": "yWZts7i75my6"
      }
    }
  ]
}