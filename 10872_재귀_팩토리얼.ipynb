{
  "nbformat": 4,
  "nbformat_minor": 0,
  "metadata": {
    "colab": {
      "name": "10872_재귀_팩토리얼.ipynb",
      "provenance": [],
      "authorship_tag": "ABX9TyP1jXTnyfi2sB7kWdx5JEmy",
      "include_colab_link": true
    },
    "kernelspec": {
      "name": "python3",
      "display_name": "Python 3"
    },
    "language_info": {
      "name": "python"
    }
  },
  "cells": [
    {
      "cell_type": "markdown",
      "metadata": {
        "id": "view-in-github",
        "colab_type": "text"
      },
      "source": [
        "<a href=\"https://colab.research.google.com/github/MinsooKwak/Baekjoon/blob/main/10872_%EC%9E%AC%EA%B7%80_%ED%8C%A9%ED%86%A0%EB%A6%AC%EC%96%BC.ipynb\" target=\"_parent\"><img src=\"https://colab.research.google.com/assets/colab-badge.svg\" alt=\"Open In Colab\"/></a>"
      ]
    },
    {
      "cell_type": "markdown",
      "source": [
        "0보다 크거나 같은 정수 N이 주어진다. 이때, N!을 출력하는 프로그램을 작성하시오."
      ],
      "metadata": {
        "id": "Pm2xmyk0Sj_t"
      }
    },
    {
      "cell_type": "markdown",
      "source": [
        "첫째 줄에 정수 N(0 ≤ N ≤ 12)이 주어진다."
      ],
      "metadata": {
        "id": "C60v9W05Sn3p"
      }
    },
    {
      "cell_type": "markdown",
      "source": [
        "출력: 첫째 줄에 N!을 출력한다."
      ],
      "metadata": {
        "id": "6MAmesApSqYy"
      }
    },
    {
      "cell_type": "code",
      "execution_count": 2,
      "metadata": {
        "colab": {
          "base_uri": "https://localhost:8080/"
        },
        "id": "kEEh9bgrQloO",
        "outputId": "3395dd78-a4ff-4d2b-96d5-7da5d1edaca3"
      },
      "outputs": [
        {
          "output_type": "stream",
          "name": "stdout",
          "text": [
            "479001600\n",
            "1\n",
            "1\n"
          ]
        }
      ],
      "source": [
        "def factorial(N):\n",
        "  result = 1\n",
        "  if N > 0:\n",
        "    result = N * factorial(N-1)\n",
        "  return result\n",
        "\n",
        "print(factorial(12))\n",
        "print(factorial(1))\n",
        "print(factorial(0))"
      ]
    }
  ]
}